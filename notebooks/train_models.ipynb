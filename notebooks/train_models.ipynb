{
 "cells": [
  {
   "cell_type": "code",
   "execution_count": 1,
   "metadata": {},
   "outputs": [
    {
     "name": "stdout",
     "output_type": "stream",
     "text": [
      "Mean Squared Error : 0.1634\n",
      "Modèle saved in : linear_model.pkl\n",
      "Modle successfully loaded.\n",
      "Predictions for [0.5 0.7] : [1.47111849 2.03098322]\n"
     ]
    }
   ],
   "source": [
    "import numpy as np\n",
    "import pandas as pd\n",
    "from sklearn.model_selection import train_test_split\n",
    "from sklearn.linear_model import LinearRegression\n",
    "from sklearn.metrics import mean_squared_error\n",
    "import joblib  # Pour sauvegarder le modèle\n",
    "\n",
    "# 1. Creating simulated data for training\n",
    "np.random.seed(42)\n",
    "X = np.random.rand(100, 1)  \n",
    "y = 3 * X.squeeze() + np.random.randn(100) * 0.5  # Y = 3 * X + noise\n",
    "\n",
    "# 2. Train test split\n",
    "X_train, X_test, y_train, y_test = train_test_split(X, y, test_size=0.2, random_state=42)\n",
    "\n",
    "# 3. Linear model training\n",
    "model = LinearRegression()\n",
    "model.fit(X_train, y_train)\n",
    "\n",
    "# 4. Model evaluation\n",
    "y_pred = model.predict(X_test)\n",
    "mse = mean_squared_error(y_test, y_pred)\n",
    "print(f\"Mean Squared Error : {mse:.4f}\")\n",
    "\n",
    "# 5. Saving the model in a .pkl file\n",
    "model_filename = 'linear_model.pkl'\n",
    "joblib.dump(model, model_filename)\n",
    "print(f\"Modèle saved in : {model_filename}\")\n",
    "\n",
    "# 6. Model loading from the .pkl\n",
    "loaded_model = joblib.load(model_filename)\n",
    "print(\"Modle successfully loaded.\")\n",
    "\n",
    "# 7. Making prediction with the loaded model\n",
    "sample_data = np.array([[0.5], [0.7]])  # Exemple de nouvelles données\n",
    "predictions = loaded_model.predict(sample_data)\n",
    "print(f\"Predictions for {sample_data.flatten()} : {predictions}\")\n"
   ]
  }
 ],
 "metadata": {
  "kernelspec": {
   "display_name": "base",
   "language": "python",
   "name": "python3"
  },
  "language_info": {
   "codemirror_mode": {
    "name": "ipython",
    "version": 3
   },
   "file_extension": ".py",
   "mimetype": "text/x-python",
   "name": "python",
   "nbconvert_exporter": "python",
   "pygments_lexer": "ipython3",
   "version": "3.12.7"
  }
 },
 "nbformat": 4,
 "nbformat_minor": 2
}
